{
 "cells": [
  {
   "cell_type": "code",
   "execution_count": 1,
   "metadata": {},
   "outputs": [],
   "source": [
    "import pandas as pd"
   ]
  },
  {
   "cell_type": "code",
   "execution_count": 2,
   "metadata": {},
   "outputs": [],
   "source": [
    "imdb = pd.read_csv(\"../dados/imdb.csv\")"
   ]
  },
  {
   "cell_type": "code",
   "execution_count": 6,
   "metadata": {},
   "outputs": [
    {
     "data": {
      "text/html": [
       "<div>\n",
       "<style scoped>\n",
       "    .dataframe tbody tr th:only-of-type {\n",
       "        vertical-align: middle;\n",
       "    }\n",
       "\n",
       "    .dataframe tbody tr th {\n",
       "        vertical-align: top;\n",
       "    }\n",
       "\n",
       "    .dataframe thead th {\n",
       "        text-align: right;\n",
       "    }\n",
       "</style>\n",
       "<table border=\"1\" class=\"dataframe\">\n",
       "  <thead>\n",
       "    <tr style=\"text-align: right;\">\n",
       "      <th></th>\n",
       "      <th>direcao</th>\n",
       "      <th>direcao2</th>\n",
       "    </tr>\n",
       "  </thead>\n",
       "  <tbody>\n",
       "    <tr>\n",
       "      <th>0</th>\n",
       "      <td>Tay Garnett</td>\n",
       "      <td>Tay Garnett</td>\n",
       "    </tr>\n",
       "    <tr>\n",
       "      <th>1</th>\n",
       "      <td>Henry Hathaway</td>\n",
       "      <td>Henry Hathaway</td>\n",
       "    </tr>\n",
       "    <tr>\n",
       "      <th>2</th>\n",
       "      <td>Raphaël Nadjari</td>\n",
       "      <td>Raphaël Nadjari</td>\n",
       "    </tr>\n",
       "    <tr>\n",
       "      <th>3</th>\n",
       "      <td>Eddie Beverly Jr., Tommy Blaze</td>\n",
       "      <td>Eddie Beverly Jr.</td>\n",
       "    </tr>\n",
       "    <tr>\n",
       "      <th>3</th>\n",
       "      <td>Eddie Beverly Jr., Tommy Blaze</td>\n",
       "      <td>Tommy Blaze</td>\n",
       "    </tr>\n",
       "    <tr>\n",
       "      <th>...</th>\n",
       "      <td>...</td>\n",
       "      <td>...</td>\n",
       "    </tr>\n",
       "    <tr>\n",
       "      <th>28485</th>\n",
       "      <td>Jake Kasdan</td>\n",
       "      <td>Jake Kasdan</td>\n",
       "    </tr>\n",
       "    <tr>\n",
       "      <th>28486</th>\n",
       "      <td>Jack Arnold</td>\n",
       "      <td>Jack Arnold</td>\n",
       "    </tr>\n",
       "    <tr>\n",
       "      <th>28487</th>\n",
       "      <td>John Carpenter</td>\n",
       "      <td>John Carpenter</td>\n",
       "    </tr>\n",
       "    <tr>\n",
       "      <th>28488</th>\n",
       "      <td>Robert Wise</td>\n",
       "      <td>Robert Wise</td>\n",
       "    </tr>\n",
       "    <tr>\n",
       "      <th>28489</th>\n",
       "      <td>John Polson</td>\n",
       "      <td>John Polson</td>\n",
       "    </tr>\n",
       "  </tbody>\n",
       "</table>\n",
       "<p>30465 rows × 2 columns</p>\n",
       "</div>"
      ],
      "text/plain": [
       "                              direcao           direcao2\n",
       "0                         Tay Garnett        Tay Garnett\n",
       "1                      Henry Hathaway     Henry Hathaway\n",
       "2                     Raphaël Nadjari    Raphaël Nadjari\n",
       "3      Eddie Beverly Jr., Tommy Blaze  Eddie Beverly Jr.\n",
       "3      Eddie Beverly Jr., Tommy Blaze        Tommy Blaze\n",
       "...                               ...                ...\n",
       "28485                     Jake Kasdan        Jake Kasdan\n",
       "28486                     Jack Arnold        Jack Arnold\n",
       "28487                  John Carpenter     John Carpenter\n",
       "28488                     Robert Wise        Robert Wise\n",
       "28489                     John Polson        John Polson\n",
       "\n",
       "[30465 rows x 2 columns]"
      ]
     },
     "execution_count": 6,
     "metadata": {},
     "output_type": "execute_result"
    }
   ],
   "source": [
    "(imdb.\n",
    "    filter([\"direcao\"]).\n",
    "    assign(direcao2 = lambda x: x.direcao.str.split(\",\")).\n",
    "    explode(\"direcao2\")\n",
    ")"
   ]
  }
 ],
 "metadata": {
  "kernelspec": {
   "display_name": "Python 3",
   "language": "python",
   "name": "python3"
  },
  "language_info": {
   "codemirror_mode": {
    "name": "ipython",
    "version": 3
   },
   "file_extension": ".py",
   "mimetype": "text/x-python",
   "name": "python",
   "nbconvert_exporter": "python",
   "pygments_lexer": "ipython3",
   "version": "3.10.4"
  },
  "orig_nbformat": 4,
  "vscode": {
   "interpreter": {
    "hash": "3ad933181bd8a04b432d3370b9dc3b0662ad032c4dfaa4e4f1596c548f763858"
   }
  }
 },
 "nbformat": 4,
 "nbformat_minor": 2
}
